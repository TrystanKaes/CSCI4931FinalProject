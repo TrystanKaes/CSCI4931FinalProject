{
 "cells": [
  {
   "cell_type": "code",
   "execution_count": 1,
   "metadata": {},
   "outputs": [
    {
     "name": "stderr",
     "output_type": "stream",
     "text": [
      "Using TensorFlow backend.\n"
     ]
    }
   ],
   "source": [
    "#Data Manipulation\n",
    "import numpy as np\n",
    "import pandas as pd\n",
    "\n",
    "#Plotting and visualization\n",
    "import matplotlib.pyplot as plt\n",
    "import seaborn as sns #Some shiny visualizations\n",
    "\n",
    "#Utilities\n",
    "import json\n",
    "from sklearn.model_selection import train_test_split \n",
    "from sklearn.preprocessing import StandardScaler\n",
    "from sklearn.metrics import precision_score, f1_score, recall_score\n",
    "\n",
    "#Artificial Neural Networks\n",
    "import tensorflow as tf\n",
    "from tensorflow import keras\n",
    "from tensorflow.keras import layers\n",
    "from keras.wrappers.scikit_learn import KerasClassifier\n",
    "from keras.layers import Dense, Activation, Dropout, BatchNormalization"
   ]
  },
  {
   "cell_type": "code",
   "execution_count": 2,
   "metadata": {},
   "outputs": [],
   "source": [
    "#--------- Project Administration ------------\n",
    "DatasetFilepath = './SLE_RA_Control_blood_panels.csv'\n",
    "#--------------------------------------------"
   ]
  },
  {
   "cell_type": "code",
   "execution_count": null,
   "metadata": {},
   "outputs": [],
   "source": [
    "data = pd.read_csv(datasetFilepath)"
   ]
  },
  {
   "cell_type": "code",
   "execution_count": null,
   "metadata": {},
   "outputs": [],
   "source": [
    "data.isnull().sum()"
   ]
  },
  {
   "cell_type": "code",
   "execution_count": null,
   "metadata": {},
   "outputs": [],
   "source": [
    "data_corr = data.corr()\n",
    "plt.figure(figsize=(10,10))\n",
    "sns.heatmap(data_corr)\n",
    "plt.show()"
   ]
  },
  {
   "cell_type": "code",
   "execution_count": null,
   "metadata": {},
   "outputs": [],
   "source": [
    "x = data.drop('Name', axis=1)\n",
    "x = x.drop('Exited', axis=1)"
   ]
  },
  {
   "cell_type": "code",
   "execution_count": null,
   "metadata": {},
   "outputs": [],
   "source": [
    "# Prepare and scale the data. \n",
    "x_train, x_test, y_train, y_test = train_test_split(x, y, test_size=0.2, random_state=25)\n",
    "\n",
    "x_train = StandardScaler().fit_transform(x_train)\n",
    "x_test = StandardScaler().fit_transform(x_test)"
   ]
  },
  {
   "cell_type": "code",
   "execution_count": null,
   "metadata": {},
   "outputs": [],
   "source": [
    "#--------------------------------------------------------------------------\n",
    "def make_that_model(layers, loss_function, optimizer, learning_rate, exit_activation=None):\n",
    "    model = keras.Sequential()\n",
    "    for i, layer in enumerate(layers):\n",
    "        if i==0:\n",
    "            model.add(getattr(keras.layers, layer[\"name\"])(input_shape=INPUT_SHAPE, **layer[\"options\"]))\n",
    "        else:\n",
    "            model.add(getattr(keras.layers, layer[\"name\"])(**layer[\"options\"]))\n",
    "\n",
    "    if exit_activation!=None:\n",
    "        model.add(Activation(exit_activation))\n",
    "\n",
    "    op = getattr(keras.optimizers, optimizer)(learning_rate=(learning_rate))\n",
    "    model.compile(loss=loss_function, optimizer=op, metrics=['accuracy'])\n",
    "\n",
    "    return model\n",
    "#--------------------------------------------------------------------------\n",
    "def model_create(parameterization, load_file=None):\n",
    "\n",
    "  model = make_that_model(\n",
    "      parameterization.get('layers'),\n",
    "      parameterization.get('loss_function'),\n",
    "      parameterization.get('optimizer'),\n",
    "      parameterization.get('learning_rate'),\n",
    "      )\n",
    "  \n",
    "  if load_file != None:\n",
    "    model.load_weights(load_file)\n",
    "  \n",
    "  return model\n",
    "#--------------------------------------------------------------------------"
   ]
  },
  {
   "cell_type": "code",
   "execution_count": null,
   "metadata": {},
   "outputs": [],
   "source": [
    "model = model_create(config)\n",
    "model.summary()"
   ]
  },
  {
   "cell_type": "code",
   "execution_count": null,
   "metadata": {},
   "outputs": [],
   "source": [
    "checkpoint = tf.keras.callbacks.ModelCheckpoint(\n",
    "      PROJECT_ROOT + \"/Checkpoints/\" + str(MODEL_COUNT) + '/run' + str(RUN_COUNT) + '.{epoch:02d}__L{loss:.2f}_A{accuracy:.2f}.hdf5',\n",
    "      monitor=\"loss\",\n",
    "      save_best_only=True,\n",
    "      save_weights_only=False,\n",
    "      mode=\"min\",\n",
    "      save_freq=\"epoch\",\n",
    "      verbose=1,\n",
    "  )\n",
    "\n",
    "hist = model.fit(\n",
    "        x=x_train, y=y_train, \n",
    "        steps_per_epoch=len(x_train), \n",
    "        validation_data=(x_test,y_test),\n",
    "        validation_freq=1,\n",
    "        workers=15,\n",
    "        use_multiprocessing=True,\n",
    "        epochs=EPOCHS, \n",
    "        callbacks=[checkpoint],\n",
    "        verbose=1,\n",
    "        )"
   ]
  }
 ],
 "metadata": {
  "kernelspec": {
   "display_name": "Python 3",
   "language": "python",
   "name": "python3"
  },
  "language_info": {
   "codemirror_mode": {
    "name": "ipython",
    "version": 3
   },
   "file_extension": ".py",
   "mimetype": "text/x-python",
   "name": "python",
   "nbconvert_exporter": "python",
   "pygments_lexer": "ipython3",
   "version": "3.8.8"
  }
 },
 "nbformat": 4,
 "nbformat_minor": 4
}
