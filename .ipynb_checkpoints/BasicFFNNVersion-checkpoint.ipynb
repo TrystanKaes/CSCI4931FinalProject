{
 "cells": [
  {
   "cell_type": "code",
   "execution_count": 213,
   "metadata": {},
   "outputs": [],
   "source": [
    "#Data Manipulation\n",
    "import numpy as np\n",
    "import pandas as pd\n",
    "\n",
    "#Plotting and visualization\n",
    "import matplotlib.pyplot as plt\n",
    "import seaborn as sns #Some shiny visualizations\n",
    "\n",
    "#Utilities\n",
    "import json\n",
    "from sklearn.model_selection import train_test_split \n",
    "from sklearn.preprocessing import StandardScaler\n",
    "from sklearn.metrics import precision_score, f1_score, recall_score, classification_report\n",
    "from sklearn.preprocessing import LabelEncoder\n",
    "from sklearn.preprocessing import OneHotEncoder\n",
    "\n",
    "\n",
    "#Artificial Neural Networks\n",
    "import tensorflow as tf\n",
    "from tensorflow import keras\n",
    "from tensorflow.keras import layers\n",
    "from keras.wrappers.scikit_learn import KerasClassifier\n",
    "from keras.layers import Dense, Activation, Dropout, BatchNormalization"
   ]
  },
  {
   "cell_type": "code",
   "execution_count": 174,
   "metadata": {},
   "outputs": [],
   "source": [
    "#--------- Project Administration ------------\n",
    "DatasetFilepath = './SLE_RA_Control_blood_panels.csv'\n",
    "#--------------------------------------------"
   ]
  },
  {
   "cell_type": "code",
   "execution_count": 175,
   "metadata": {},
   "outputs": [],
   "source": [
    "data = pd.read_csv(DatasetFilepath)\n",
    "data = data.drop(data.columns[0], axis=1)"
   ]
  },
  {
   "cell_type": "code",
   "execution_count": 176,
   "metadata": {
    "scrolled": true
   },
   "outputs": [],
   "source": [
    "# Create correlation matrix\n",
    "corr_matrix = data.corr().abs()\n",
    "\n",
    "# Select upper triangle of correlation matrix\n",
    "upper = corr_matrix.where(np.triu(np.ones(corr_matrix.shape), k=1).astype(np.bool))\n",
    "\n",
    "# Find features with correlation greater than 0.95\n",
    "to_drop = [column for column in upper.columns if any(upper[column] > 0.95)]\n",
    "\n",
    "# Drop features \n",
    "data.drop(to_drop, axis=1, inplace=True)"
   ]
  },
  {
   "cell_type": "code",
   "execution_count": null,
   "metadata": {},
   "outputs": [],
   "source": [
    "data.to_csv('CORE_SLE_RA_Control_blood_panels.csv')"
   ]
  },
  {
   "cell_type": "code",
   "execution_count": 177,
   "metadata": {},
   "outputs": [],
   "source": [
    "label = LabelEncoder()\n",
    "int_data = label.fit_transform(data['Condition'])\n",
    "int_data = int_data.reshape(len(int_data), 1)\n",
    "\n",
    "onehot_data = OneHotEncoder(sparse=False)\n",
    "onehot_data = onehot_data.fit_transform(int_data)\n",
    "\n",
    "y = onehot_data"
   ]
  },
  {
   "cell_type": "code",
   "execution_count": 178,
   "metadata": {},
   "outputs": [],
   "source": [
    "x = data.drop(['Name', 'Condition'], axis=1)"
   ]
  },
  {
   "cell_type": "code",
   "execution_count": 179,
   "metadata": {},
   "outputs": [],
   "source": [
    "# Prepare and scale the data. \n",
    "x_train, x_test, y_train, y_test = train_test_split(x, y, test_size=0.2, random_state=25)\n",
    "\n",
    "x_train = StandardScaler().fit_transform(x_train)\n",
    "x_test = StandardScaler().fit_transform(x_test)"
   ]
  },
  {
   "cell_type": "code",
   "execution_count": 180,
   "metadata": {},
   "outputs": [],
   "source": [
    "#--------------------------------------------------------------------------\n",
    "def make_that_model(layers, loss_function, optimizer, learning_rate, exit_activation=None):\n",
    "    model = keras.Sequential()\n",
    "    for layer in layers:\n",
    "        model.add(getattr(keras.layers, layer[\"name\"])(**layer[\"options\"]))\n",
    "\n",
    "    if exit_activation!=None:\n",
    "        model.add(Activation(exit_activation))\n",
    "    \n",
    "#     print(\"HJi\")\n",
    "\n",
    "    op = getattr(keras.optimizers, optimizer)(learning_rate=(learning_rate))\n",
    "    model.compile(loss=loss_function, optimizer=op, metrics=['accuracy'])\n",
    "\n",
    "    return model\n",
    "#--------------------------------------------------------------------------\n",
    "def model_create(parameterization, load_file=None):\n",
    "\n",
    "  model = make_that_model(\n",
    "      parameterization.get('layers'),\n",
    "      parameterization.get('loss_function'),\n",
    "      parameterization.get('optimizer'),\n",
    "      parameterization.get('learning_rate'),\n",
    "      )\n",
    "  \n",
    "  if load_file != None:\n",
    "    model.load_weights(load_file)\n",
    "  \n",
    "  return model\n",
    "#--------------------------------------------------------------------------"
   ]
  },
  {
   "cell_type": "code",
   "execution_count": 259,
   "metadata": {},
   "outputs": [],
   "source": [
    "config = {\n",
    "    \"layers\": [\n",
    "        {\n",
    "            \"name\": \"Dense\",\n",
    "            \"options\": {\n",
    "                \"input_shape\": (x.shape[1],),\n",
    "                \"units\": 173,\n",
    "                \"activation\":\"relu\", \n",
    "                \"use_bias\": True,\n",
    "            },\n",
    "        },{\n",
    "            \"name\": \"SimpleRNN\",\n",
    "            \"options\": {\n",
    "                \"units\": 173,\n",
    "                \"activation\":\"relu\", \n",
    "                \"use_bias\": True,\n",
    "            },\n",
    "        },\n",
    "        {\n",
    "            \"name\": \"Dropout\",\n",
    "            \"options\": {\n",
    "                \"rate\": 0.2,\n",
    "            },\n",
    "        },\n",
    "        {\n",
    "            \"name\": \"Dropout\",\n",
    "            \"options\": {\n",
    "                \"rate\": 0.2,\n",
    "            },\n",
    "        },\n",
    "        {\n",
    "            \"name\": \"Dense\",\n",
    "            \"options\": {\n",
    "                \"units\": 4,\n",
    "                \"use_bias\": True,\n",
    "            },\n",
    "        },\n",
    "    ],\n",
    "    \"loss_function\": \"categorical_crossentropy\",\n",
    "    \"optimizer\": \"Adam\",\n",
    "    \"batch_size\": 512,\n",
    "    \"learning_rate\": 0.000075,\n",
    "}"
   ]
  },
  {
   "cell_type": "code",
   "execution_count": 260,
   "metadata": {},
   "outputs": [
    {
     "name": "stdout",
     "output_type": "stream",
     "text": [
      "Model: \"sequential_40\"\n",
      "_________________________________________________________________\n",
      "Layer (type)                 Output Shape              Param #   \n",
      "=================================================================\n",
      "dropout_31 (Dropout)         (None, 15979)             0         \n",
      "_________________________________________________________________\n",
      "dropout_32 (Dropout)         (None, 15979)             0         \n",
      "_________________________________________________________________\n",
      "dropout_33 (Dropout)         (None, 15979)             0         \n",
      "_________________________________________________________________\n",
      "dense_69 (Dense)             (None, 4)                 63920     \n",
      "=================================================================\n",
      "Total params: 63,920\n",
      "Trainable params: 63,920\n",
      "Non-trainable params: 0\n",
      "_________________________________________________________________\n"
     ]
    }
   ],
   "source": [
    "model = model_create(config)\n",
    "model.summary()"
   ]
  },
  {
   "cell_type": "code",
   "execution_count": 261,
   "metadata": {},
   "outputs": [
    {
     "name": "stdout",
     "output_type": "stream",
     "text": [
      "Epoch 1/100\n",
      "2/2 [==============================] - 0s 4ms/step - loss: 8.5511 - accuracy: 0.3125\n",
      "Epoch 2/100\n",
      "2/2 [==============================] - 0s 4ms/step - loss: 7.9453 - accuracy: 0.1875\n",
      "Epoch 3/100\n",
      "2/2 [==============================] - 0s 4ms/step - loss: 5.7704 - accuracy: 0.2674\n",
      "Epoch 4/100\n",
      "2/2 [==============================] - 0s 6ms/step - loss: 7.7217 - accuracy: 0.2431\n",
      "Epoch 5/100\n",
      "2/2 [==============================] - 0s 149ms/step - loss: 4.5732 - accuracy: 0.1736 - val_loss: 5.5093 - val_accuracy: 0.3333\n",
      "Epoch 6/100\n",
      "2/2 [==============================] - 0s 4ms/step - loss: 4.7953 - accuracy: 0.2500\n",
      "Epoch 7/100\n",
      "2/2 [==============================] - 0s 3ms/step - loss: 5.2954 - accuracy: 0.2639\n",
      "Epoch 8/100\n",
      "2/2 [==============================] - 0s 4ms/step - loss: 4.4253 - accuracy: 0.2153\n",
      "Epoch 9/100\n",
      "2/2 [==============================] - 0s 3ms/step - loss: 5.7077 - accuracy: 0.2882\n",
      "Epoch 10/100\n",
      "2/2 [==============================] - 0s 42ms/step - loss: 5.1283 - accuracy: 0.3854 - val_loss: 4.2278 - val_accuracy: 0.3333\n",
      "Epoch 11/100\n",
      "2/2 [==============================] - 0s 4ms/step - loss: 5.5811 - accuracy: 0.3611\n",
      "Epoch 12/100\n",
      "2/2 [==============================] - 0s 6ms/step - loss: 5.1068 - accuracy: 0.3472\n",
      "Epoch 13/100\n",
      "2/2 [==============================] - 0s 5ms/step - loss: 6.5429 - accuracy: 0.4375\n",
      "Epoch 14/100\n",
      "2/2 [==============================] - 0s 5ms/step - loss: 5.9308 - accuracy: 0.3958\n",
      "Epoch 15/100\n",
      "2/2 [==============================] - 0s 41ms/step - loss: 5.8297 - accuracy: 0.4618 - val_loss: 4.2171 - val_accuracy: 0.3333\n",
      "Epoch 16/100\n",
      "2/2 [==============================] - 0s 4ms/step - loss: 5.5545 - accuracy: 0.4028\n",
      "Epoch 17/100\n",
      "2/2 [==============================] - 0s 7ms/step - loss: 5.9229 - accuracy: 0.3889\n",
      "Epoch 18/100\n",
      "2/2 [==============================] - 0s 6ms/step - loss: 6.0077 - accuracy: 0.3403\n",
      "Epoch 19/100\n",
      "2/2 [==============================] - 0s 5ms/step - loss: 6.0176 - accuracy: 0.3819\n",
      "Epoch 20/100\n",
      "2/2 [==============================] - 0s 45ms/step - loss: 6.6398 - accuracy: 0.3160 - val_loss: 8.2862 - val_accuracy: 0.3333\n",
      "Epoch 21/100\n",
      "2/2 [==============================] - 0s 5ms/step - loss: 6.5182 - accuracy: 0.3611\n",
      "Epoch 22/100\n",
      "2/2 [==============================] - 0s 6ms/step - loss: 7.9279 - accuracy: 0.4028\n",
      "Epoch 23/100\n",
      "2/2 [==============================] - 0s 5ms/step - loss: 6.0552 - accuracy: 0.3194\n",
      "Epoch 24/100\n",
      "2/2 [==============================] - 0s 4ms/step - loss: 7.8312 - accuracy: 0.3993\n",
      "Epoch 25/100\n",
      "2/2 [==============================] - 0s 45ms/step - loss: 7.6025 - accuracy: 0.4479 - val_loss: 7.2662 - val_accuracy: 0.3333\n",
      "Epoch 26/100\n",
      "2/2 [==============================] - 0s 6ms/step - loss: 8.1637 - accuracy: 0.3993\n",
      "Epoch 27/100\n",
      "2/2 [==============================] - 0s 5ms/step - loss: 5.8093 - accuracy: 0.4271\n",
      "Epoch 28/100\n",
      "2/2 [==============================] - 0s 7ms/step - loss: 7.1953 - accuracy: 0.3993\n",
      "Epoch 29/100\n",
      "2/2 [==============================] - 0s 5ms/step - loss: 6.7788 - accuracy: 0.3958\n",
      "Epoch 30/100\n",
      "2/2 [==============================] - 0s 48ms/step - loss: 5.1604 - accuracy: 0.4861 - val_loss: 4.6510 - val_accuracy: 0.1667\n",
      "Epoch 31/100\n",
      "2/2 [==============================] - 0s 6ms/step - loss: 5.2068 - accuracy: 0.3542\n",
      "Epoch 32/100\n",
      "2/2 [==============================] - 0s 6ms/step - loss: 4.6856 - accuracy: 0.3993\n",
      "Epoch 33/100\n",
      "2/2 [==============================] - 0s 6ms/step - loss: 5.1724 - accuracy: 0.4236\n",
      "Epoch 34/100\n",
      "2/2 [==============================] - 0s 6ms/step - loss: 5.5858 - accuracy: 0.4479\n",
      "Epoch 35/100\n",
      "2/2 [==============================] - 0s 44ms/step - loss: 4.0176 - accuracy: 0.4861 - val_loss: 2.0728 - val_accuracy: 0.1667\n",
      "Epoch 36/100\n",
      "2/2 [==============================] - 0s 4ms/step - loss: 4.0473 - accuracy: 0.5382\n",
      "Epoch 37/100\n",
      "2/2 [==============================] - 0s 7ms/step - loss: 4.8452 - accuracy: 0.4618\n",
      "Epoch 38/100\n",
      "2/2 [==============================] - 0s 4ms/step - loss: 4.7289 - accuracy: 0.5035\n",
      "Epoch 39/100\n",
      "2/2 [==============================] - 0s 5ms/step - loss: 5.4686 - accuracy: 0.4653\n",
      "Epoch 40/100\n",
      "2/2 [==============================] - 0s 43ms/step - loss: 4.3477 - accuracy: 0.5104 - val_loss: 1.9561 - val_accuracy: 0.0833\n",
      "Epoch 41/100\n",
      "2/2 [==============================] - 0s 6ms/step - loss: 4.9204 - accuracy: 0.5035\n",
      "Epoch 42/100\n",
      "2/2 [==============================] - 0s 4ms/step - loss: 4.4342 - accuracy: 0.5382\n",
      "Epoch 43/100\n",
      "2/2 [==============================] - 0s 6ms/step - loss: 4.4181 - accuracy: 0.4965\n",
      "Epoch 44/100\n",
      "2/2 [==============================] - 0s 4ms/step - loss: 6.3353 - accuracy: 0.5208\n",
      "Epoch 45/100\n",
      "2/2 [==============================] - 0s 45ms/step - loss: 5.4810 - accuracy: 0.5000 - val_loss: 2.9685 - val_accuracy: 0.0833\n",
      "Epoch 46/100\n",
      "2/2 [==============================] - 0s 5ms/step - loss: 5.5659 - accuracy: 0.5486\n",
      "Epoch 47/100\n",
      "2/2 [==============================] - 0s 6ms/step - loss: 4.5805 - accuracy: 0.5486\n",
      "Epoch 48/100\n",
      "2/2 [==============================] - 0s 5ms/step - loss: 5.8425 - accuracy: 0.5139\n",
      "Epoch 49/100\n",
      "2/2 [==============================] - 0s 7ms/step - loss: 6.6827 - accuracy: 0.5729\n",
      "Epoch 50/100\n",
      "2/2 [==============================] - 0s 44ms/step - loss: 6.5348 - accuracy: 0.5139 - val_loss: 7.2121 - val_accuracy: 0.0833\n",
      "Epoch 51/100\n",
      "2/2 [==============================] - 0s 4ms/step - loss: 7.4084 - accuracy: 0.4826\n",
      "Epoch 52/100\n",
      "2/2 [==============================] - 0s 4ms/step - loss: 6.2350 - accuracy: 0.4896\n",
      "Epoch 53/100\n",
      "2/2 [==============================] - 0s 6ms/step - loss: 7.5319 - accuracy: 0.4618\n",
      "Epoch 54/100\n",
      "2/2 [==============================] - 0s 7ms/step - loss: 7.9960 - accuracy: 0.5868\n",
      "Epoch 55/100\n",
      "2/2 [==============================] - 0s 39ms/step - loss: 6.8450 - accuracy: 0.4896 - val_loss: 9.8062 - val_accuracy: 0.0833\n",
      "Epoch 56/100\n",
      "2/2 [==============================] - 0s 5ms/step - loss: 7.1000 - accuracy: 0.4375\n",
      "Epoch 57/100\n",
      "2/2 [==============================] - 0s 4ms/step - loss: 8.1907 - accuracy: 0.5035\n",
      "Epoch 58/100\n",
      "2/2 [==============================] - 0s 5ms/step - loss: 8.4333 - accuracy: 0.4410\n",
      "Epoch 59/100\n",
      "2/2 [==============================] - 0s 6ms/step - loss: 8.3189 - accuracy: 0.4931\n",
      "Epoch 60/100\n",
      "2/2 [==============================] - 0s 43ms/step - loss: 7.6979 - accuracy: 0.5104 - val_loss: 10.8851 - val_accuracy: 0.0833\n",
      "Epoch 61/100\n",
      "2/2 [==============================] - 0s 5ms/step - loss: 6.2435 - accuracy: 0.4722\n",
      "Epoch 62/100\n",
      "2/2 [==============================] - 0s 5ms/step - loss: 8.7361 - accuracy: 0.4792\n",
      "Epoch 63/100\n",
      "2/2 [==============================] - 0s 5ms/step - loss: 7.9693 - accuracy: 0.5208\n",
      "Epoch 64/100\n",
      "2/2 [==============================] - 0s 5ms/step - loss: 8.3171 - accuracy: 0.4826\n",
      "Epoch 65/100\n",
      "2/2 [==============================] - 0s 38ms/step - loss: 10.1195 - accuracy: 0.5000 - val_loss: 10.9046 - val_accuracy: 0.0833\n",
      "Epoch 66/100\n",
      "2/2 [==============================] - 0s 5ms/step - loss: 9.8598 - accuracy: 0.4861\n",
      "Epoch 67/100\n",
      "2/2 [==============================] - 0s 6ms/step - loss: 7.6366 - accuracy: 0.4514\n",
      "Epoch 68/100\n",
      "2/2 [==============================] - 0s 5ms/step - loss: 8.3150 - accuracy: 0.5000\n",
      "Epoch 69/100\n",
      "2/2 [==============================] - 0s 4ms/step - loss: 6.4584 - accuracy: 0.4549\n",
      "Epoch 70/100\n",
      "2/2 [==============================] - 0s 42ms/step - loss: 8.9609 - accuracy: 0.4479 - val_loss: 10.1045 - val_accuracy: 0.0833\n",
      "Epoch 71/100\n",
      "2/2 [==============================] - 0s 6ms/step - loss: 6.9870 - accuracy: 0.4375\n",
      "Epoch 72/100\n",
      "2/2 [==============================] - 0s 4ms/step - loss: 9.1764 - accuracy: 0.3889\n",
      "Epoch 73/100\n",
      "2/2 [==============================] - 0s 4ms/step - loss: 8.6594 - accuracy: 0.5938\n",
      "Epoch 74/100\n",
      "2/2 [==============================] - 0s 5ms/step - loss: 8.3495 - accuracy: 0.5000\n",
      "Epoch 75/100\n",
      "2/2 [==============================] - 0s 41ms/step - loss: 7.5005 - accuracy: 0.4861 - val_loss: 8.7445 - val_accuracy: 0.1667\n",
      "Epoch 76/100\n",
      "2/2 [==============================] - 0s 5ms/step - loss: 7.5651 - accuracy: 0.4375\n",
      "Epoch 77/100\n",
      "2/2 [==============================] - 0s 5ms/step - loss: 7.6377 - accuracy: 0.3507\n",
      "Epoch 78/100\n"
     ]
    },
    {
     "name": "stdout",
     "output_type": "stream",
     "text": [
      "2/2 [==============================] - 0s 4ms/step - loss: 6.3907 - accuracy: 0.4340\n",
      "Epoch 79/100\n",
      "2/2 [==============================] - 0s 6ms/step - loss: 5.5082 - accuracy: 0.4236\n",
      "Epoch 80/100\n",
      "2/2 [==============================] - 0s 44ms/step - loss: 5.2429 - accuracy: 0.3785 - val_loss: 3.8735 - val_accuracy: 0.1667\n",
      "Epoch 81/100\n",
      "2/2 [==============================] - 0s 5ms/step - loss: 6.2122 - accuracy: 0.3646\n",
      "Epoch 82/100\n",
      "2/2 [==============================] - 0s 4ms/step - loss: 5.8482 - accuracy: 0.3472\n",
      "Epoch 83/100\n",
      "2/2 [==============================] - 0s 5ms/step - loss: 5.8681 - accuracy: 0.4340\n",
      "Epoch 84/100\n",
      "2/2 [==============================] - 0s 7ms/step - loss: 5.0651 - accuracy: 0.2917\n",
      "Epoch 85/100\n",
      "2/2 [==============================] - 0s 43ms/step - loss: 4.9792 - accuracy: 0.3403 - val_loss: 2.5547 - val_accuracy: 0.1667\n",
      "Epoch 86/100\n",
      "2/2 [==============================] - 0s 5ms/step - loss: 5.4958 - accuracy: 0.3333\n",
      "Epoch 87/100\n",
      "2/2 [==============================] - 0s 5ms/step - loss: 4.4326 - accuracy: 0.3438\n",
      "Epoch 88/100\n",
      "2/2 [==============================] - 0s 4ms/step - loss: 5.1256 - accuracy: 0.3368\n",
      "Epoch 89/100\n",
      "2/2 [==============================] - 0s 4ms/step - loss: 4.7775 - accuracy: 0.3403\n",
      "Epoch 90/100\n",
      "2/2 [==============================] - 0s 41ms/step - loss: 5.1188 - accuracy: 0.3021 - val_loss: 2.4680 - val_accuracy: 0.2500\n",
      "Epoch 91/100\n",
      "2/2 [==============================] - 0s 5ms/step - loss: 4.7876 - accuracy: 0.3611\n",
      "Epoch 92/100\n",
      "2/2 [==============================] - 0s 4ms/step - loss: 5.2307 - accuracy: 0.3542\n",
      "Epoch 93/100\n",
      "2/2 [==============================] - 0s 4ms/step - loss: 4.8357 - accuracy: 0.3611\n",
      "Epoch 94/100\n",
      "2/2 [==============================] - 0s 4ms/step - loss: 5.2905 - accuracy: 0.3125\n",
      "Epoch 95/100\n",
      "2/2 [==============================] - 0s 40ms/step - loss: 4.5444 - accuracy: 0.3125 - val_loss: 2.4428 - val_accuracy: 0.2500\n",
      "Epoch 96/100\n",
      "2/2 [==============================] - 0s 5ms/step - loss: 4.3500 - accuracy: 0.2986\n",
      "Epoch 97/100\n",
      "2/2 [==============================] - 0s 4ms/step - loss: 4.0525 - accuracy: 0.2778\n",
      "Epoch 98/100\n",
      "2/2 [==============================] - 0s 5ms/step - loss: 4.8140 - accuracy: 0.3368\n",
      "Epoch 99/100\n",
      "2/2 [==============================] - 0s 3ms/step - loss: 4.4220 - accuracy: 0.2882\n",
      "Epoch 100/100\n",
      "2/2 [==============================] - 0s 41ms/step - loss: 4.6911 - accuracy: 0.2639 - val_loss: 2.4342 - val_accuracy: 0.2500\n"
     ]
    }
   ],
   "source": [
    "hist = model.fit(\n",
    "        x=x_train, y=y_train, \n",
    "        validation_data=(x_test,y_test),\n",
    "        validation_freq=5,\n",
    "#         workers=15,\n",
    "#         use_multiprocessing=True,\n",
    "        epochs=100, \n",
    "        verbose=1,\n",
    "        )"
   ]
  },
  {
   "cell_type": "code",
   "execution_count": 208,
   "metadata": {},
   "outputs": [],
   "source": [
    "pred = model.predict(x_test)"
   ]
  },
  {
   "cell_type": "code",
   "execution_count": 242,
   "metadata": {},
   "outputs": [],
   "source": [
    "batch_size=30\n"
   ]
  },
  {
   "cell_type": "code",
   "execution_count": 249,
   "metadata": {},
   "outputs": [
    {
     "name": "stdout",
     "output_type": "stream",
     "text": [
      "1/1 [==============================] - 0s 16ms/step - loss: 2.6863 - accuracy: 0.5833\n"
     ]
    }
   ],
   "source": [
    "stat = classification_report(np.argmax(pred,-1), np.argmax(y_test, -1), output_dict=True)\n",
    "metrics = dict(\n",
    "        zip(model.metrics_names,\n",
    "            model.evaluate(x=x_test, y=y_test, batch_size=batch_size)))"
   ]
  },
  {
   "cell_type": "code",
   "execution_count": 251,
   "metadata": {},
   "outputs": [
    {
     "data": {
      "text/plain": [
       "{'loss': 2.6863491535186768, 'accuracy': 0.5833333134651184}"
      ]
     },
     "execution_count": 251,
     "metadata": {},
     "output_type": "execute_result"
    }
   ],
   "source": [
    "metrics"
   ]
  },
  {
   "cell_type": "code",
   "execution_count": 250,
   "metadata": {},
   "outputs": [
    {
     "data": {
      "text/plain": [
       "{'0': {'precision': 1.0,\n",
       "  'recall': 0.5714285714285714,\n",
       "  'f1-score': 0.7272727272727273,\n",
       "  'support': 7},\n",
       " '1': {'precision': 0.6,\n",
       "  'recall': 1.0,\n",
       "  'f1-score': 0.7499999999999999,\n",
       "  'support': 3},\n",
       " '3': {'precision': 0.0, 'recall': 0.0, 'f1-score': 0.0, 'support': 2},\n",
       " 'accuracy': 0.5833333333333334,\n",
       " 'macro avg': {'precision': 0.5333333333333333,\n",
       "  'recall': 0.5238095238095238,\n",
       "  'f1-score': 0.4924242424242424,\n",
       "  'support': 12},\n",
       " 'weighted avg': {'precision': 0.7333333333333334,\n",
       "  'recall': 0.5833333333333334,\n",
       "  'f1-score': 0.6117424242424242,\n",
       "  'support': 12}}"
      ]
     },
     "execution_count": 250,
     "metadata": {},
     "output_type": "execute_result"
    }
   ],
   "source": [
    "stat"
   ]
  },
  {
   "cell_type": "code",
   "execution_count": 253,
   "metadata": {},
   "outputs": [
    {
     "data": {
      "text/plain": [
       "array(['disease: SLE (Systemic LUPUS Erythomatosus)',\n",
       "       'disease: Rheumatoid Arthiritis (DMARD-IR)',\n",
       "       'disease: Rheumatoid Arthiritis (DMARD-IR)', 'disease: Control',\n",
       "       'disease: Rheumatoid Arthiritis (DMARD-IR)', 'disease: Control',\n",
       "       'disease: Control', 'disease: Control', 'disease: Control',\n",
       "       'disease: Control', 'disease: Control',\n",
       "       'disease: SLE (Systemic LUPUS Erythomatosus)'], dtype=object)"
      ]
     },
     "execution_count": 253,
     "metadata": {},
     "output_type": "execute_result"
    }
   ],
   "source": [
    "label.inverse_transform(np.argmax(y_test, axis=-1))\n",
    "label.inverse_transform(np.argmax(pred, axis=-1))"
   ]
  },
  {
   "cell_type": "code",
   "execution_count": null,
   "metadata": {},
   "outputs": [],
   "source": []
  }
 ],
 "metadata": {
  "kernelspec": {
   "display_name": "Python 3",
   "language": "python",
   "name": "python3"
  },
  "language_info": {
   "codemirror_mode": {
    "name": "ipython",
    "version": 3
   },
   "file_extension": ".py",
   "mimetype": "text/x-python",
   "name": "python",
   "nbconvert_exporter": "python",
   "pygments_lexer": "ipython3",
   "version": "3.8.8"
  }
 },
 "nbformat": 4,
 "nbformat_minor": 4
}
