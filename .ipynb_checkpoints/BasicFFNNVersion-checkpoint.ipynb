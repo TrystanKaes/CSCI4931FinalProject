{
 "cells": [
  {
   "cell_type": "code",
   "execution_count": 1,
   "metadata": {},
   "outputs": [
    {
     "name": "stderr",
     "output_type": "stream",
     "text": [
      "Using TensorFlow backend.\n"
     ]
    }
   ],
   "source": [
    "#Data Manipulation\n",
    "import numpy as np\n",
    "import pandas as pd\n",
    "\n",
    "#Plotting and visualization\n",
    "import matplotlib.pyplot as plt\n",
    "import seaborn as sns #Some shiny visualizations\n",
    "\n",
    "#Utilities\n",
    "import json\n",
    "from sklearn.model_selection import train_test_split \n",
    "from sklearn.preprocessing import StandardScaler\n",
    "from sklearn.metrics import precision_score, f1_score, recall_score, classification_report\n",
    "from sklearn.preprocessing import LabelEncoder\n",
    "from sklearn.preprocessing import OneHotEncoder\n",
    "\n",
    "\n",
    "#Artificial Neural Networks\n",
    "import tensorflow as tf\n",
    "from tensorflow import keras\n",
    "from tensorflow.keras import layers\n",
    "from keras.wrappers.scikit_learn import KerasClassifier\n",
    "from keras.layers import Dense, Activation, Dropout, BatchNormalization"
   ]
  },
  {
   "cell_type": "code",
   "execution_count": 2,
   "metadata": {},
   "outputs": [],
   "source": [
    "#--------- Project Administration ------------\n",
    "DatasetFilepath = './SLE_RA_Control_blood_panels.csv'\n",
    "#--------------------------------------------"
   ]
  },
  {
   "cell_type": "code",
   "execution_count": 4,
   "metadata": {},
   "outputs": [],
   "source": [
    "data = pd.read_csv(DatasetFilepath)\n",
    "data = data.drop(data.columns[0], axis=1)"
   ]
  },
  {
   "cell_type": "code",
   "execution_count": 5,
   "metadata": {
    "scrolled": true
   },
   "outputs": [],
   "source": [
    "# Create correlation matrix\n",
    "corr_matrix = data.corr().abs()\n",
    "\n",
    "# Select upper triangle of correlation matrix\n",
    "upper = corr_matrix.where(np.triu(np.ones(corr_matrix.shape), k=1).astype(np.bool))\n",
    "\n",
    "# Find features with correlation greater than 0.95\n",
    "to_drop = [column for column in upper.columns if any(upper[column] > 0.95)]\n",
    "\n",
    "# Drop features \n",
    "data.drop(to_drop, axis=1, inplace=True)"
   ]
  },
  {
   "cell_type": "code",
   "execution_count": 6,
   "metadata": {},
   "outputs": [],
   "source": [
    "data.to_csv('CORE_SLE_RA_Control_blood_panels.csv')"
   ]
  },
  {
   "cell_type": "code",
   "execution_count": 177,
   "metadata": {},
   "outputs": [],
   "source": [
    "label = LabelEncoder()\n",
    "int_data = label.fit_transform(data['Condition'])\n",
    "int_data = int_data.reshape(len(int_data), 1)\n",
    "\n",
    "onehot_data = OneHotEncoder(sparse=False)\n",
    "onehot_data = onehot_data.fit_transform(int_data)\n",
    "\n",
    "y = onehot_data"
   ]
  },
  {
   "cell_type": "code",
   "execution_count": 178,
   "metadata": {},
   "outputs": [],
   "source": [
    "x = data.drop(['Name', 'Condition'], axis=1)"
   ]
  },
  {
   "cell_type": "code",
   "execution_count": 179,
   "metadata": {},
   "outputs": [],
   "source": [
    "# Prepare and scale the data. \n",
    "x_train, x_test, y_train, y_test = train_test_split(x, y, test_size=0.2, random_state=25)\n",
    "\n",
    "x_train = StandardScaler().fit_transform(x_train)\n",
    "x_test = StandardScaler().fit_transform(x_test)"
   ]
  },
  {
   "cell_type": "code",
   "execution_count": 180,
   "metadata": {},
   "outputs": [],
   "source": [
    "#--------------------------------------------------------------------------\n",
    "def make_that_model(layers, loss_function, optimizer, learning_rate, exit_activation=None):\n",
    "    model = keras.Sequential()\n",
    "    for layer in layers:\n",
    "        model.add(getattr(keras.layers, layer[\"name\"])(**layer[\"options\"]))\n",
    "\n",
    "    if exit_activation!=None:\n",
    "        model.add(Activation(exit_activation))\n",
    "\n",
    "    op = getattr(keras.optimizers, optimizer)(learning_rate=(learning_rate))\n",
    "    model.compile(loss=loss_function, optimizer=op, metrics=['accuracy'])\n",
    "\n",
    "    return model\n",
    "#--------------------------------------------------------------------------\n",
    "def model_create(parameterization, load_file=None):\n",
    "\n",
    "  model = make_that_model(\n",
    "      parameterization.get('layers'),\n",
    "      parameterization.get('loss_function'),\n",
    "      parameterization.get('optimizer'),\n",
    "      parameterization.get('learning_rate'),\n",
    "      )\n",
    "  \n",
    "  if load_file != None:\n",
    "    model.load_weights(load_file)\n",
    "  \n",
    "  return model\n",
    "#--------------------------------------------------------------------------"
   ]
  },
  {
   "cell_type": "code",
   "execution_count": 267,
   "metadata": {},
   "outputs": [],
   "source": [
    "config = {\n",
    "    \"layers\": [\n",
    "        {\n",
    "            \"name\": \"Dense\",\n",
    "            \"options\": {\n",
    "                \"input_shape\": (x.shape[1],),\n",
    "                \"units\": 173,\n",
    "                \"activation\":\"relu\", \n",
    "                \"use_bias\": True,\n",
    "            },\n",
    "        },\n",
    "        {\n",
    "            \"name\": \"Dropout\",\n",
    "            \"options\": {\n",
    "                \"rate\": 0.2,\n",
    "            },\n",
    "        },\n",
    "        {\n",
    "            \"name\": \"Dropout\",\n",
    "            \"options\": {\n",
    "                \"rate\": 0.2,\n",
    "            },\n",
    "        },\n",
    "        {\n",
    "            \"name\": \"Dense\",\n",
    "            \"options\": {\n",
    "                \"units\": 4,\n",
    "                \"use_bias\": True,\n",
    "            },\n",
    "        },\n",
    "    ],\n",
    "    \"loss_function\": \"categorical_crossentropy\",\n",
    "    \"optimizer\": \"Adam\",\n",
    "    \"batch_size\": 512,\n",
    "    \"learning_rate\": 0.000075,\n",
    "}"
   ]
  },
  {
   "cell_type": "code",
   "execution_count": 268,
   "metadata": {},
   "outputs": [
    {
     "ename": "TypeError",
     "evalue": "('Keyword argument not understood:', 'units')",
     "output_type": "error",
     "traceback": [
      "\u001b[0;31m---------------------------------------------------------------------------\u001b[0m",
      "\u001b[0;31mTypeError\u001b[0m                                 Traceback (most recent call last)",
      "\u001b[0;32m<ipython-input-268-6e590a8b239a>\u001b[0m in \u001b[0;36m<module>\u001b[0;34m\u001b[0m\n\u001b[0;32m----> 1\u001b[0;31m \u001b[0mmodel\u001b[0m \u001b[0;34m=\u001b[0m \u001b[0mmodel_create\u001b[0m\u001b[0;34m(\u001b[0m\u001b[0mconfig\u001b[0m\u001b[0;34m)\u001b[0m\u001b[0;34m\u001b[0m\u001b[0;34m\u001b[0m\u001b[0m\n\u001b[0m\u001b[1;32m      2\u001b[0m \u001b[0mmodel\u001b[0m\u001b[0;34m.\u001b[0m\u001b[0msummary\u001b[0m\u001b[0;34m(\u001b[0m\u001b[0;34m)\u001b[0m\u001b[0;34m\u001b[0m\u001b[0;34m\u001b[0m\u001b[0m\n",
      "\u001b[0;32m<ipython-input-180-174b83963197>\u001b[0m in \u001b[0;36mmodel_create\u001b[0;34m(parameterization, load_file)\u001b[0m\n\u001b[1;32m     17\u001b[0m \u001b[0;32mdef\u001b[0m \u001b[0mmodel_create\u001b[0m\u001b[0;34m(\u001b[0m\u001b[0mparameterization\u001b[0m\u001b[0;34m,\u001b[0m \u001b[0mload_file\u001b[0m\u001b[0;34m=\u001b[0m\u001b[0;32mNone\u001b[0m\u001b[0;34m)\u001b[0m\u001b[0;34m:\u001b[0m\u001b[0;34m\u001b[0m\u001b[0;34m\u001b[0m\u001b[0m\n\u001b[1;32m     18\u001b[0m \u001b[0;34m\u001b[0m\u001b[0m\n\u001b[0;32m---> 19\u001b[0;31m   model = make_that_model(\n\u001b[0m\u001b[1;32m     20\u001b[0m       \u001b[0mparameterization\u001b[0m\u001b[0;34m.\u001b[0m\u001b[0mget\u001b[0m\u001b[0;34m(\u001b[0m\u001b[0;34m'layers'\u001b[0m\u001b[0;34m)\u001b[0m\u001b[0;34m,\u001b[0m\u001b[0;34m\u001b[0m\u001b[0;34m\u001b[0m\u001b[0m\n\u001b[1;32m     21\u001b[0m       \u001b[0mparameterization\u001b[0m\u001b[0;34m.\u001b[0m\u001b[0mget\u001b[0m\u001b[0;34m(\u001b[0m\u001b[0;34m'loss_function'\u001b[0m\u001b[0;34m)\u001b[0m\u001b[0;34m,\u001b[0m\u001b[0;34m\u001b[0m\u001b[0;34m\u001b[0m\u001b[0m\n",
      "\u001b[0;32m<ipython-input-180-174b83963197>\u001b[0m in \u001b[0;36mmake_that_model\u001b[0;34m(layers, loss_function, optimizer, learning_rate, exit_activation)\u001b[0m\n\u001b[1;32m      3\u001b[0m     \u001b[0mmodel\u001b[0m \u001b[0;34m=\u001b[0m \u001b[0mkeras\u001b[0m\u001b[0;34m.\u001b[0m\u001b[0mSequential\u001b[0m\u001b[0;34m(\u001b[0m\u001b[0;34m)\u001b[0m\u001b[0;34m\u001b[0m\u001b[0;34m\u001b[0m\u001b[0m\n\u001b[1;32m      4\u001b[0m     \u001b[0;32mfor\u001b[0m \u001b[0mlayer\u001b[0m \u001b[0;32min\u001b[0m \u001b[0mlayers\u001b[0m\u001b[0;34m:\u001b[0m\u001b[0;34m\u001b[0m\u001b[0;34m\u001b[0m\u001b[0m\n\u001b[0;32m----> 5\u001b[0;31m         \u001b[0mmodel\u001b[0m\u001b[0;34m.\u001b[0m\u001b[0madd\u001b[0m\u001b[0;34m(\u001b[0m\u001b[0mgetattr\u001b[0m\u001b[0;34m(\u001b[0m\u001b[0mkeras\u001b[0m\u001b[0;34m.\u001b[0m\u001b[0mlayers\u001b[0m\u001b[0;34m,\u001b[0m \u001b[0mlayer\u001b[0m\u001b[0;34m[\u001b[0m\u001b[0;34m\"name\"\u001b[0m\u001b[0;34m]\u001b[0m\u001b[0;34m)\u001b[0m\u001b[0;34m(\u001b[0m\u001b[0;34m**\u001b[0m\u001b[0mlayer\u001b[0m\u001b[0;34m[\u001b[0m\u001b[0;34m\"options\"\u001b[0m\u001b[0;34m]\u001b[0m\u001b[0;34m)\u001b[0m\u001b[0;34m)\u001b[0m\u001b[0;34m\u001b[0m\u001b[0;34m\u001b[0m\u001b[0m\n\u001b[0m\u001b[1;32m      6\u001b[0m \u001b[0;34m\u001b[0m\u001b[0m\n\u001b[1;32m      7\u001b[0m     \u001b[0;32mif\u001b[0m \u001b[0mexit_activation\u001b[0m\u001b[0;34m!=\u001b[0m\u001b[0;32mNone\u001b[0m\u001b[0;34m:\u001b[0m\u001b[0;34m\u001b[0m\u001b[0;34m\u001b[0m\u001b[0m\n",
      "\u001b[0;32m/usr/local/lib/python3.8/site-packages/tensorflow/python/keras/layers/core.py\u001b[0m in \u001b[0;36m__init__\u001b[0;34m(self, mask_value, **kwargs)\u001b[0m\n\u001b[1;32m    116\u001b[0m \u001b[0;34m\u001b[0m\u001b[0m\n\u001b[1;32m    117\u001b[0m   \u001b[0;32mdef\u001b[0m \u001b[0m__init__\u001b[0m\u001b[0;34m(\u001b[0m\u001b[0mself\u001b[0m\u001b[0;34m,\u001b[0m \u001b[0mmask_value\u001b[0m\u001b[0;34m=\u001b[0m\u001b[0;36m0.\u001b[0m\u001b[0;34m,\u001b[0m \u001b[0;34m**\u001b[0m\u001b[0mkwargs\u001b[0m\u001b[0;34m)\u001b[0m\u001b[0;34m:\u001b[0m\u001b[0;34m\u001b[0m\u001b[0;34m\u001b[0m\u001b[0m\n\u001b[0;32m--> 118\u001b[0;31m     \u001b[0msuper\u001b[0m\u001b[0;34m(\u001b[0m\u001b[0mMasking\u001b[0m\u001b[0;34m,\u001b[0m \u001b[0mself\u001b[0m\u001b[0;34m)\u001b[0m\u001b[0;34m.\u001b[0m\u001b[0m__init__\u001b[0m\u001b[0;34m(\u001b[0m\u001b[0;34m**\u001b[0m\u001b[0mkwargs\u001b[0m\u001b[0;34m)\u001b[0m\u001b[0;34m\u001b[0m\u001b[0;34m\u001b[0m\u001b[0m\n\u001b[0m\u001b[1;32m    119\u001b[0m     \u001b[0mself\u001b[0m\u001b[0;34m.\u001b[0m\u001b[0msupports_masking\u001b[0m \u001b[0;34m=\u001b[0m \u001b[0;32mTrue\u001b[0m\u001b[0;34m\u001b[0m\u001b[0;34m\u001b[0m\u001b[0m\n\u001b[1;32m    120\u001b[0m     \u001b[0mself\u001b[0m\u001b[0;34m.\u001b[0m\u001b[0mmask_value\u001b[0m \u001b[0;34m=\u001b[0m \u001b[0mmask_value\u001b[0m\u001b[0;34m\u001b[0m\u001b[0;34m\u001b[0m\u001b[0m\n",
      "\u001b[0;32m/usr/local/lib/python3.8/site-packages/tensorflow/python/training/tracking/base.py\u001b[0m in \u001b[0;36m_method_wrapper\u001b[0;34m(self, *args, **kwargs)\u001b[0m\n\u001b[1;32m    515\u001b[0m     \u001b[0mself\u001b[0m\u001b[0;34m.\u001b[0m\u001b[0m_self_setattr_tracking\u001b[0m \u001b[0;34m=\u001b[0m \u001b[0;32mFalse\u001b[0m  \u001b[0;31m# pylint: disable=protected-access\u001b[0m\u001b[0;34m\u001b[0m\u001b[0;34m\u001b[0m\u001b[0m\n\u001b[1;32m    516\u001b[0m     \u001b[0;32mtry\u001b[0m\u001b[0;34m:\u001b[0m\u001b[0;34m\u001b[0m\u001b[0;34m\u001b[0m\u001b[0m\n\u001b[0;32m--> 517\u001b[0;31m       \u001b[0mresult\u001b[0m \u001b[0;34m=\u001b[0m \u001b[0mmethod\u001b[0m\u001b[0;34m(\u001b[0m\u001b[0mself\u001b[0m\u001b[0;34m,\u001b[0m \u001b[0;34m*\u001b[0m\u001b[0margs\u001b[0m\u001b[0;34m,\u001b[0m \u001b[0;34m**\u001b[0m\u001b[0mkwargs\u001b[0m\u001b[0;34m)\u001b[0m\u001b[0;34m\u001b[0m\u001b[0;34m\u001b[0m\u001b[0m\n\u001b[0m\u001b[1;32m    518\u001b[0m     \u001b[0;32mfinally\u001b[0m\u001b[0;34m:\u001b[0m\u001b[0;34m\u001b[0m\u001b[0;34m\u001b[0m\u001b[0m\n\u001b[1;32m    519\u001b[0m       \u001b[0mself\u001b[0m\u001b[0;34m.\u001b[0m\u001b[0m_self_setattr_tracking\u001b[0m \u001b[0;34m=\u001b[0m \u001b[0mprevious_value\u001b[0m  \u001b[0;31m# pylint: disable=protected-access\u001b[0m\u001b[0;34m\u001b[0m\u001b[0;34m\u001b[0m\u001b[0m\n",
      "\u001b[0;32m/usr/local/lib/python3.8/site-packages/tensorflow/python/keras/engine/base_layer.py\u001b[0m in \u001b[0;36m__init__\u001b[0;34m(self, trainable, name, dtype, dynamic, **kwargs)\u001b[0m\n\u001b[1;32m    338\u001b[0m     }\n\u001b[1;32m    339\u001b[0m     \u001b[0;31m# Validate optional keyword arguments.\u001b[0m\u001b[0;34m\u001b[0m\u001b[0;34m\u001b[0m\u001b[0;34m\u001b[0m\u001b[0m\n\u001b[0;32m--> 340\u001b[0;31m     \u001b[0mgeneric_utils\u001b[0m\u001b[0;34m.\u001b[0m\u001b[0mvalidate_kwargs\u001b[0m\u001b[0;34m(\u001b[0m\u001b[0mkwargs\u001b[0m\u001b[0;34m,\u001b[0m \u001b[0mallowed_kwargs\u001b[0m\u001b[0;34m)\u001b[0m\u001b[0;34m\u001b[0m\u001b[0;34m\u001b[0m\u001b[0m\n\u001b[0m\u001b[1;32m    341\u001b[0m \u001b[0;34m\u001b[0m\u001b[0m\n\u001b[1;32m    342\u001b[0m     \u001b[0;31m# Mutable properties\u001b[0m\u001b[0;34m\u001b[0m\u001b[0;34m\u001b[0m\u001b[0;34m\u001b[0m\u001b[0m\n",
      "\u001b[0;32m/usr/local/lib/python3.8/site-packages/tensorflow/python/keras/utils/generic_utils.py\u001b[0m in \u001b[0;36mvalidate_kwargs\u001b[0;34m(kwargs, allowed_kwargs, error_message)\u001b[0m\n\u001b[1;32m    806\u001b[0m   \u001b[0;32mfor\u001b[0m \u001b[0mkwarg\u001b[0m \u001b[0;32min\u001b[0m \u001b[0mkwargs\u001b[0m\u001b[0;34m:\u001b[0m\u001b[0;34m\u001b[0m\u001b[0;34m\u001b[0m\u001b[0m\n\u001b[1;32m    807\u001b[0m     \u001b[0;32mif\u001b[0m \u001b[0mkwarg\u001b[0m \u001b[0;32mnot\u001b[0m \u001b[0;32min\u001b[0m \u001b[0mallowed_kwargs\u001b[0m\u001b[0;34m:\u001b[0m\u001b[0;34m\u001b[0m\u001b[0;34m\u001b[0m\u001b[0m\n\u001b[0;32m--> 808\u001b[0;31m       \u001b[0;32mraise\u001b[0m \u001b[0mTypeError\u001b[0m\u001b[0;34m(\u001b[0m\u001b[0merror_message\u001b[0m\u001b[0;34m,\u001b[0m \u001b[0mkwarg\u001b[0m\u001b[0;34m)\u001b[0m\u001b[0;34m\u001b[0m\u001b[0;34m\u001b[0m\u001b[0m\n\u001b[0m\u001b[1;32m    809\u001b[0m \u001b[0;34m\u001b[0m\u001b[0m\n\u001b[1;32m    810\u001b[0m \u001b[0;34m\u001b[0m\u001b[0m\n",
      "\u001b[0;31mTypeError\u001b[0m: ('Keyword argument not understood:', 'units')"
     ]
    }
   ],
   "source": [
    "model = model_create(config)\n",
    "model.summary()"
   ]
  },
  {
   "cell_type": "code",
   "execution_count": 269,
   "metadata": {},
   "outputs": [
    {
     "name": "stdout",
     "output_type": "stream",
     "text": [
      "Epoch 1/100\n",
      "2/2 [==============================] - 0s 3ms/step - loss: 4.9206 - accuracy: 0.4583\n",
      "Epoch 2/100\n",
      "2/2 [==============================] - 0s 3ms/step - loss: 4.5437 - accuracy: 0.4375\n",
      "Epoch 3/100\n",
      "2/2 [==============================] - 0s 4ms/step - loss: 4.5818 - accuracy: 0.4375\n",
      "Epoch 4/100\n",
      "2/2 [==============================] - 0s 3ms/step - loss: 4.8835 - accuracy: 0.4375\n",
      "Epoch 5/100\n",
      "2/2 [==============================] - 0s 71ms/step - loss: 4.2211 - accuracy: 0.4167 - val_loss: 10.8298 - val_accuracy: 0.6667\n",
      "Epoch 6/100\n",
      "2/2 [==============================] - 0s 5ms/step - loss: 4.9815 - accuracy: 0.4167\n",
      "Epoch 7/100\n",
      "2/2 [==============================] - 0s 5ms/step - loss: 4.8354 - accuracy: 0.4583\n",
      "Epoch 8/100\n",
      "2/2 [==============================] - 0s 6ms/step - loss: 4.1453 - accuracy: 0.4375\n",
      "Epoch 9/100\n",
      "2/2 [==============================] - 0s 5ms/step - loss: 4.1722 - accuracy: 0.4375\n",
      "Epoch 10/100\n",
      "2/2 [==============================] - 0s 40ms/step - loss: 4.1551 - accuracy: 0.4167 - val_loss: 10.7987 - val_accuracy: 0.6667\n",
      "Epoch 11/100\n",
      "2/2 [==============================] - 0s 6ms/step - loss: 4.4284 - accuracy: 0.4583\n",
      "Epoch 12/100\n",
      "2/2 [==============================] - 0s 5ms/step - loss: 4.4339 - accuracy: 0.4583\n",
      "Epoch 13/100\n",
      "2/2 [==============================] - 0s 4ms/step - loss: 4.7810 - accuracy: 0.4375\n",
      "Epoch 14/100\n",
      "2/2 [==============================] - 0s 4ms/step - loss: 4.7670 - accuracy: 0.4167\n",
      "Epoch 15/100\n",
      "2/2 [==============================] - 0s 41ms/step - loss: 4.0243 - accuracy: 0.5208 - val_loss: 9.7255 - val_accuracy: 0.6667\n",
      "Epoch 16/100\n",
      "2/2 [==============================] - 0s 6ms/step - loss: 4.3813 - accuracy: 0.4167\n",
      "Epoch 17/100\n",
      "2/2 [==============================] - 0s 6ms/step - loss: 4.3624 - accuracy: 0.4792\n",
      "Epoch 18/100\n",
      "2/2 [==============================] - 0s 6ms/step - loss: 3.9799 - accuracy: 0.4583\n",
      "Epoch 19/100\n",
      "2/2 [==============================] - 0s 4ms/step - loss: 3.6702 - accuracy: 0.4583\n",
      "Epoch 20/100\n",
      "2/2 [==============================] - 0s 46ms/step - loss: 4.3369 - accuracy: 0.3750 - val_loss: 9.6387 - val_accuracy: 0.6667\n",
      "Epoch 21/100\n",
      "2/2 [==============================] - 0s 6ms/step - loss: 4.0416 - accuracy: 0.4375\n",
      "Epoch 22/100\n",
      "2/2 [==============================] - 0s 4ms/step - loss: 3.9557 - accuracy: 0.4167\n",
      "Epoch 23/100\n",
      "2/2 [==============================] - 0s 7ms/step - loss: 5.2213 - accuracy: 0.5000\n",
      "Epoch 24/100\n",
      "2/2 [==============================] - 0s 4ms/step - loss: 4.5860 - accuracy: 0.4792\n",
      "Epoch 25/100\n",
      "2/2 [==============================] - 0s 49ms/step - loss: 3.8911 - accuracy: 0.4792 - val_loss: 9.5857 - val_accuracy: 0.6667\n",
      "Epoch 26/100\n",
      "2/2 [==============================] - 0s 5ms/step - loss: 5.2176 - accuracy: 0.4583\n",
      "Epoch 27/100\n",
      "2/2 [==============================] - 0s 6ms/step - loss: 4.1612 - accuracy: 0.4792\n",
      "Epoch 28/100\n",
      "2/2 [==============================] - 0s 5ms/step - loss: 3.7844 - accuracy: 0.5208\n",
      "Epoch 29/100\n",
      "2/2 [==============================] - 0s 4ms/step - loss: 4.4749 - accuracy: 0.4375\n",
      "Epoch 30/100\n",
      "2/2 [==============================] - 0s 45ms/step - loss: 4.1499 - accuracy: 0.4375 - val_loss: 10.8851 - val_accuracy: 0.6667\n",
      "Epoch 31/100\n",
      "2/2 [==============================] - 0s 5ms/step - loss: 5.1131 - accuracy: 0.4583\n",
      "Epoch 32/100\n",
      "2/2 [==============================] - 0s 5ms/step - loss: 4.4994 - accuracy: 0.4583\n",
      "Epoch 33/100\n",
      "2/2 [==============================] - 0s 5ms/step - loss: 5.1227 - accuracy: 0.4792\n",
      "Epoch 34/100\n",
      "2/2 [==============================] - 0s 4ms/step - loss: 5.5769 - accuracy: 0.4583\n",
      "Epoch 35/100\n",
      "2/2 [==============================] - 0s 48ms/step - loss: 4.8094 - accuracy: 0.5000 - val_loss: 9.6753 - val_accuracy: 0.6667\n",
      "Epoch 36/100\n",
      "2/2 [==============================] - 0s 7ms/step - loss: 4.2219 - accuracy: 0.5000\n",
      "Epoch 37/100\n",
      "2/2 [==============================] - 0s 4ms/step - loss: 5.2044 - accuracy: 0.5208\n",
      "Epoch 38/100\n",
      "2/2 [==============================] - 0s 7ms/step - loss: 4.7478 - accuracy: 0.4792\n",
      "Epoch 39/100\n",
      "2/2 [==============================] - 0s 4ms/step - loss: 4.3998 - accuracy: 0.5208\n",
      "Epoch 40/100\n",
      "2/2 [==============================] - 0s 45ms/step - loss: 4.0779 - accuracy: 0.4583 - val_loss: 8.3512 - val_accuracy: 0.7500\n",
      "Epoch 41/100\n",
      "2/2 [==============================] - 0s 4ms/step - loss: 4.0945 - accuracy: 0.5208\n",
      "Epoch 42/100\n",
      "2/2 [==============================] - 0s 5ms/step - loss: 6.1350 - accuracy: 0.5000\n",
      "Epoch 43/100\n",
      "2/2 [==============================] - 0s 6ms/step - loss: 3.7793 - accuracy: 0.5417\n",
      "Epoch 44/100\n",
      "2/2 [==============================] - 0s 6ms/step - loss: 5.5052 - accuracy: 0.5000\n",
      "Epoch 45/100\n",
      "2/2 [==============================] - 0s 46ms/step - loss: 6.1309 - accuracy: 0.4792 - val_loss: 8.2184 - val_accuracy: 0.7500\n",
      "Epoch 46/100\n",
      "2/2 [==============================] - 0s 5ms/step - loss: 4.7511 - accuracy: 0.5625\n",
      "Epoch 47/100\n",
      "2/2 [==============================] - 0s 7ms/step - loss: 5.0674 - accuracy: 0.5000\n",
      "Epoch 48/100\n",
      "2/2 [==============================] - 0s 5ms/step - loss: 5.7382 - accuracy: 0.4583\n",
      "Epoch 49/100\n",
      "2/2 [==============================] - 0s 7ms/step - loss: 5.1046 - accuracy: 0.5208\n",
      "Epoch 50/100\n",
      "2/2 [==============================] - 0s 42ms/step - loss: 6.4512 - accuracy: 0.5417 - val_loss: 8.1879 - val_accuracy: 0.7500\n",
      "Epoch 51/100\n",
      "2/2 [==============================] - 0s 5ms/step - loss: 3.4041 - accuracy: 0.5625\n",
      "Epoch 52/100\n",
      "2/2 [==============================] - 0s 5ms/step - loss: 5.7437 - accuracy: 0.5417\n",
      "Epoch 53/100\n",
      "2/2 [==============================] - 0s 5ms/step - loss: 4.8514 - accuracy: 0.5417\n",
      "Epoch 54/100\n",
      "2/2 [==============================] - 0s 7ms/step - loss: 4.7459 - accuracy: 0.5000\n",
      "Epoch 55/100\n",
      "2/2 [==============================] - 0s 47ms/step - loss: 5.0667 - accuracy: 0.5208 - val_loss: 8.1419 - val_accuracy: 0.7500\n",
      "Epoch 56/100\n",
      "2/2 [==============================] - 0s 5ms/step - loss: 4.7074 - accuracy: 0.5833\n",
      "Epoch 57/100\n",
      "2/2 [==============================] - 0s 7ms/step - loss: 5.0702 - accuracy: 0.4792\n",
      "Epoch 58/100\n",
      "2/2 [==============================] - 0s 4ms/step - loss: 5.7215 - accuracy: 0.5208\n",
      "Epoch 59/100\n",
      "2/2 [==============================] - 0s 5ms/step - loss: 6.0582 - accuracy: 0.5625\n",
      "Epoch 60/100\n",
      "2/2 [==============================] - 0s 49ms/step - loss: 5.0841 - accuracy: 0.4792 - val_loss: 8.0836 - val_accuracy: 0.7500\n",
      "Epoch 61/100\n",
      "2/2 [==============================] - 0s 6ms/step - loss: 6.1589 - accuracy: 0.6042\n",
      "Epoch 62/100\n",
      "2/2 [==============================] - 0s 5ms/step - loss: 4.4279 - accuracy: 0.4583\n",
      "Epoch 63/100\n",
      "2/2 [==============================] - 0s 8ms/step - loss: 6.3988 - accuracy: 0.6042\n",
      "Epoch 64/100\n",
      "2/2 [==============================] - 0s 5ms/step - loss: 5.0674 - accuracy: 0.5417\n",
      "Epoch 65/100\n",
      "2/2 [==============================] - 0s 39ms/step - loss: 8.0878 - accuracy: 0.5000 - val_loss: 9.4022 - val_accuracy: 0.7500\n",
      "Epoch 66/100\n",
      "2/2 [==============================] - 0s 7ms/step - loss: 5.7529 - accuracy: 0.4792\n",
      "Epoch 67/100\n",
      "2/2 [==============================] - 0s 6ms/step - loss: 7.7340 - accuracy: 0.5625\n",
      "Epoch 68/100\n",
      "2/2 [==============================] - 0s 4ms/step - loss: 5.4500 - accuracy: 0.6042\n",
      "Epoch 69/100\n",
      "2/2 [==============================] - 0s 5ms/step - loss: 5.4260 - accuracy: 0.4792\n",
      "Epoch 70/100\n",
      "2/2 [==============================] - 0s 39ms/step - loss: 5.7227 - accuracy: 0.5000 - val_loss: 12.0886 - val_accuracy: 0.7500\n",
      "Epoch 71/100\n",
      "2/2 [==============================] - 0s 4ms/step - loss: 6.3828 - accuracy: 0.5417\n",
      "Epoch 72/100\n",
      "2/2 [==============================] - 0s 4ms/step - loss: 5.3896 - accuracy: 0.6042\n",
      "Epoch 73/100\n",
      "2/2 [==============================] - 0s 4ms/step - loss: 5.3973 - accuracy: 0.5833\n",
      "Epoch 74/100\n",
      "2/2 [==============================] - 0s 4ms/step - loss: 5.3746 - accuracy: 0.5833\n",
      "Epoch 75/100\n",
      "2/2 [==============================] - 0s 32ms/step - loss: 5.4242 - accuracy: 0.5417 - val_loss: 11.3697 - val_accuracy: 0.7500\n",
      "Epoch 76/100\n",
      "2/2 [==============================] - 0s 4ms/step - loss: 5.0461 - accuracy: 0.5208\n",
      "Epoch 77/100\n",
      "2/2 [==============================] - 0s 3ms/step - loss: 7.0616 - accuracy: 0.5208\n",
      "Epoch 78/100\n"
     ]
    },
    {
     "name": "stdout",
     "output_type": "stream",
     "text": [
      "2/2 [==============================] - 0s 4ms/step - loss: 5.7206 - accuracy: 0.5000\n",
      "Epoch 79/100\n",
      "2/2 [==============================] - 0s 3ms/step - loss: 5.3918 - accuracy: 0.5208\n",
      "Epoch 80/100\n",
      "2/2 [==============================] - 0s 31ms/step - loss: 5.0757 - accuracy: 0.5833 - val_loss: 8.3563 - val_accuracy: 0.7500\n",
      "Epoch 81/100\n",
      "2/2 [==============================] - 0s 3ms/step - loss: 7.4125 - accuracy: 0.4167\n",
      "Epoch 82/100\n",
      "2/2 [==============================] - 0s 3ms/step - loss: 5.0443 - accuracy: 0.5208\n",
      "Epoch 83/100\n",
      "2/2 [==============================] - 0s 6ms/step - loss: 6.7195 - accuracy: 0.5208\n",
      "Epoch 84/100\n",
      "2/2 [==============================] - 0s 6ms/step - loss: 6.3801 - accuracy: 0.6042\n",
      "Epoch 85/100\n",
      "2/2 [==============================] - 0s 47ms/step - loss: 5.7182 - accuracy: 0.5417 - val_loss: 8.3279 - val_accuracy: 0.7500\n",
      "Epoch 86/100\n",
      "2/2 [==============================] - 0s 5ms/step - loss: 8.0729 - accuracy: 0.5417\n",
      "Epoch 87/100\n",
      "2/2 [==============================] - 0s 7ms/step - loss: 6.0577 - accuracy: 0.4792\n",
      "Epoch 88/100\n",
      "2/2 [==============================] - 0s 6ms/step - loss: 7.3900 - accuracy: 0.5417\n",
      "Epoch 89/100\n",
      "2/2 [==============================] - 0s 5ms/step - loss: 7.7898 - accuracy: 0.5000\n",
      "Epoch 90/100\n",
      "2/2 [==============================] - 0s 46ms/step - loss: 5.4110 - accuracy: 0.4375 - val_loss: 8.3130 - val_accuracy: 0.7500\n",
      "Epoch 91/100\n",
      "2/2 [==============================] - 0s 6ms/step - loss: 6.3846 - accuracy: 0.4375\n",
      "Epoch 92/100\n",
      "2/2 [==============================] - 0s 4ms/step - loss: 7.7236 - accuracy: 0.5625\n",
      "Epoch 93/100\n",
      "2/2 [==============================] - 0s 5ms/step - loss: 5.4017 - accuracy: 0.5417\n",
      "Epoch 94/100\n",
      "2/2 [==============================] - 0s 4ms/step - loss: 5.7194 - accuracy: 0.5000\n",
      "Epoch 95/100\n",
      "2/2 [==============================] - 0s 47ms/step - loss: 6.7708 - accuracy: 0.5000 - val_loss: 6.9731 - val_accuracy: 0.7500\n",
      "Epoch 96/100\n",
      "2/2 [==============================] - 0s 4ms/step - loss: 6.4004 - accuracy: 0.4583\n",
      "Epoch 97/100\n",
      "2/2 [==============================] - 0s 4ms/step - loss: 6.7594 - accuracy: 0.5208\n",
      "Epoch 98/100\n",
      "2/2 [==============================] - 0s 4ms/step - loss: 7.3875 - accuracy: 0.5208\n",
      "Epoch 99/100\n",
      "2/2 [==============================] - 0s 4ms/step - loss: 7.0529 - accuracy: 0.4792\n",
      "Epoch 100/100\n",
      "2/2 [==============================] - 0s 45ms/step - loss: 5.7908 - accuracy: 0.5833 - val_loss: 6.9880 - val_accuracy: 0.7500\n"
     ]
    }
   ],
   "source": [
    "hist = model.fit(\n",
    "        x=x_train, y=y_train, \n",
    "        validation_data=(x_test,y_test),\n",
    "        validation_freq=5,\n",
    "        workers=8,\n",
    "        use_multiprocessing=True,\n",
    "        epochs=100, \n",
    "        verbose=1,\n",
    "        )"
   ]
  },
  {
   "cell_type": "code",
   "execution_count": 208,
   "metadata": {},
   "outputs": [],
   "source": [
    "pred = model.predict(x_test)"
   ]
  },
  {
   "cell_type": "code",
   "execution_count": 242,
   "metadata": {},
   "outputs": [],
   "source": [
    "batch_size=30\n"
   ]
  },
  {
   "cell_type": "code",
   "execution_count": 249,
   "metadata": {},
   "outputs": [
    {
     "name": "stdout",
     "output_type": "stream",
     "text": [
      "1/1 [==============================] - 0s 16ms/step - loss: 2.6863 - accuracy: 0.5833\n"
     ]
    }
   ],
   "source": [
    "stat = classification_report(np.argmax(pred,-1), np.argmax(y_test, -1), output_dict=True)\n",
    "metrics = dict(\n",
    "        zip(model.metrics_names,\n",
    "            model.evaluate(x=x_test, y=y_test, batch_size=batch_size)))"
   ]
  },
  {
   "cell_type": "code",
   "execution_count": 251,
   "metadata": {},
   "outputs": [
    {
     "data": {
      "text/plain": [
       "{'loss': 2.6863491535186768, 'accuracy': 0.5833333134651184}"
      ]
     },
     "execution_count": 251,
     "metadata": {},
     "output_type": "execute_result"
    }
   ],
   "source": [
    "metrics"
   ]
  },
  {
   "cell_type": "code",
   "execution_count": 250,
   "metadata": {},
   "outputs": [
    {
     "data": {
      "text/plain": [
       "{'0': {'precision': 1.0,\n",
       "  'recall': 0.5714285714285714,\n",
       "  'f1-score': 0.7272727272727273,\n",
       "  'support': 7},\n",
       " '1': {'precision': 0.6,\n",
       "  'recall': 1.0,\n",
       "  'f1-score': 0.7499999999999999,\n",
       "  'support': 3},\n",
       " '3': {'precision': 0.0, 'recall': 0.0, 'f1-score': 0.0, 'support': 2},\n",
       " 'accuracy': 0.5833333333333334,\n",
       " 'macro avg': {'precision': 0.5333333333333333,\n",
       "  'recall': 0.5238095238095238,\n",
       "  'f1-score': 0.4924242424242424,\n",
       "  'support': 12},\n",
       " 'weighted avg': {'precision': 0.7333333333333334,\n",
       "  'recall': 0.5833333333333334,\n",
       "  'f1-score': 0.6117424242424242,\n",
       "  'support': 12}}"
      ]
     },
     "execution_count": 250,
     "metadata": {},
     "output_type": "execute_result"
    }
   ],
   "source": [
    "stat"
   ]
  },
  {
   "cell_type": "code",
   "execution_count": 253,
   "metadata": {},
   "outputs": [
    {
     "data": {
      "text/plain": [
       "array(['disease: SLE (Systemic LUPUS Erythomatosus)',\n",
       "       'disease: Rheumatoid Arthiritis (DMARD-IR)',\n",
       "       'disease: Rheumatoid Arthiritis (DMARD-IR)', 'disease: Control',\n",
       "       'disease: Rheumatoid Arthiritis (DMARD-IR)', 'disease: Control',\n",
       "       'disease: Control', 'disease: Control', 'disease: Control',\n",
       "       'disease: Control', 'disease: Control',\n",
       "       'disease: SLE (Systemic LUPUS Erythomatosus)'], dtype=object)"
      ]
     },
     "execution_count": 253,
     "metadata": {},
     "output_type": "execute_result"
    }
   ],
   "source": [
    "label.inverse_transform(np.argmax(y_test, axis=-1))\n",
    "label.inverse_transform(np.argmax(pred, axis=-1))"
   ]
  },
  {
   "cell_type": "code",
   "execution_count": null,
   "metadata": {},
   "outputs": [],
   "source": []
  }
 ],
 "metadata": {
  "kernelspec": {
   "display_name": "Python 3",
   "language": "python",
   "name": "python3"
  },
  "language_info": {
   "codemirror_mode": {
    "name": "ipython",
    "version": 3
   },
   "file_extension": ".py",
   "mimetype": "text/x-python",
   "name": "python",
   "nbconvert_exporter": "python",
   "pygments_lexer": "ipython3",
   "version": "3.8.8"
  }
 },
 "nbformat": 4,
 "nbformat_minor": 4
}
